{
 "cells": [
  {
   "cell_type": "code",
   "execution_count": 1,
   "metadata": {},
   "outputs": [
    {
     "name": "stdout",
     "output_type": "stream",
     "text": [
      "SepsisLabel\n",
      "0    139580\n",
      "1     27916\n",
      "Name: count, dtype: int64\n"
     ]
    }
   ],
   "source": [
    "import pandas as pd\n",
    "df = pd.read_csv(\"../datasets/sepsis_cleaned.csv\")\n",
    "print(df[\"SepsisLabel\"].value_counts())"
   ]
  },
  {
   "cell_type": "code",
   "execution_count": 3,
   "metadata": {},
   "outputs": [
    {
     "name": "stdout",
     "output_type": "stream",
     "text": [
      "Original columns: 44, Cleaned columns: 13\n"
     ]
    }
   ],
   "source": [
    "raw_df = pd.read_csv(\"../datasets/sepsis.csv\")\n",
    "print(f\"Original columns: {raw_df.shape[1]}, Cleaned columns: {df.shape[1]}\")"
   ]
  },
  {
   "cell_type": "code",
   "execution_count": 4,
   "metadata": {},
   "outputs": [
    {
     "name": "stdout",
     "output_type": "stream",
     "text": [
      "Dropped Columns: {'Lactate', 'Platelets', 'WBC', 'EtCO2', 'Fibrinogen', 'Calcium', 'Creatinine', 'Unnamed: 0', 'pH', 'Alkalinephos', 'Patient_ID', 'Chloride', 'PaCO2', 'SaO2', 'Glucose', 'HospAdmTime', 'Bilirubin_total', 'BUN', 'HCO3', 'Potassium', 'Bilirubin_direct', 'TroponinI', 'PTT', 'BaseExcess', 'Hct', 'AST', 'Magnesium', 'Phosphate', 'FiO2', 'Temp', 'Hgb'}\n"
     ]
    }
   ],
   "source": [
    "dropped_columns = set(raw_df.columns) - set(df.columns)\n",
    "print(\"Dropped Columns:\", dropped_columns)\n"
   ]
  },
  {
   "cell_type": "code",
   "execution_count": 5,
   "metadata": {},
   "outputs": [
    {
     "name": "stdout",
     "output_type": "stream",
     "text": [
      "Bilirubin_direct    99.807371\n",
      "Fibrinogen          99.340167\n",
      "TroponinI           99.047745\n",
      "Bilirubin_total     98.509158\n",
      "Alkalinephos        98.393194\n",
      "AST                 98.377604\n",
      "Lactate             97.329872\n",
      "PTT                 97.055875\n",
      "SaO2                96.549372\n",
      "EtCO2               96.286843\n",
      "Phosphate           95.986303\n",
      "HCO3                95.810618\n",
      "Chloride            95.460279\n",
      "BaseExcess          94.579020\n",
      "PaCO2               94.440121\n",
      "Calcium             94.116067\n",
      "Platelets           94.059502\n",
      "Creatinine          93.904433\n",
      "Magnesium           93.689578\n",
      "WBC                 93.593199\n",
      "BUN                 93.134434\n",
      "pH                  93.069688\n",
      "Hgb                 92.617558\n",
      "FiO2                91.665754\n",
      "Hct                 91.145979\n",
      "Potassium           90.689082\n",
      "Glucose             82.894325\n",
      "Temp                66.162697\n",
      "Unit2               39.425078\n",
      "Unit1               39.425078\n",
      "DBP                 31.345887\n",
      "Resp                15.354559\n",
      "SBP                 14.576958\n",
      "O2Sat               13.061119\n",
      "MAP                 12.451279\n",
      "HR                   9.882619\n",
      "HospAdmTime          0.000515\n",
      "Unnamed: 0           0.000000\n",
      "Hour                 0.000000\n",
      "Gender               0.000000\n",
      "Age                  0.000000\n",
      "ICULOS               0.000000\n",
      "SepsisLabel          0.000000\n",
      "Patient_ID           0.000000\n",
      "dtype: float64\n"
     ]
    }
   ],
   "source": [
    "missing_percent = raw_df.isna().mean() * 100\n",
    "print(missing_percent.sort_values(ascending=False))"
   ]
  },
  {
   "cell_type": "code",
   "execution_count": 6,
   "metadata": {},
   "outputs": [
    {
     "name": "stdout",
     "output_type": "stream",
     "text": [
      "SepsisLabel\n",
      "0    83.333333\n",
      "1    16.666667\n",
      "Name: proportion, dtype: float64\n"
     ]
    }
   ],
   "source": [
    "print(df[\"SepsisLabel\"].value_counts(normalize=True) * 100)"
   ]
  },
  {
   "cell_type": "code",
   "execution_count": null,
   "metadata": {},
   "outputs": [],
   "source": []
  }
 ],
 "metadata": {
  "kernelspec": {
   "display_name": ".venv",
   "language": "python",
   "name": "python3"
  },
  "language_info": {
   "codemirror_mode": {
    "name": "ipython",
    "version": 3
   },
   "file_extension": ".py",
   "mimetype": "text/x-python",
   "name": "python",
   "nbconvert_exporter": "python",
   "pygments_lexer": "ipython3",
   "version": "3.12.8"
  }
 },
 "nbformat": 4,
 "nbformat_minor": 2
}
